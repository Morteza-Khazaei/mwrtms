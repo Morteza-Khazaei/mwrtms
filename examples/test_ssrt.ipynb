{
  "cells": [
    {
      "cell_type": "markdown",
      "metadata": {},
      "source": [
        "# SSRT vegetation example\n"
      ]
    },
    {
      "cell_type": "code",
      "execution_count": null,
      "metadata": {},
      "outputs": [],
      "source": [
        "import numpy as np\n",
        "from mwrtms import mwRTMs\n",
        "from mwrtms.scattering.volume import SSRTModel, CanopyProperties\n",
        "from mwrtms.medium import VegetationMedium, SoilMedium\n",
        "from mwrtms.core import ElectromagneticWave, ScatteringGeometry, PolarizationState\n",
        "\n",
        "soil_result = mwRTMs.compute_soil_backscatter('aiem', 5.4, 40.0, 1.0, 5.0, soil_moisture=0.25)\n",
        "soil_sigma0 = {pol: 10**(val/10.0) for pol, val in soil_result.items()}\n",
        "\n",
        "wave = ElectromagneticWave(frequency_hz=5.4e9)\n",
        "geometry = ScatteringGeometry(theta_i_deg=40.0)\n",
        "canopy = CanopyProperties(lai=3.0, vegetation_water_content=2.5, height=1.5)\n",
        "ssrt = SSRTModel(wave, geometry, canopy, soil_sigma0)\n",
        "veg = VegetationMedium(gravimetric_moisture=0.6)\n",
        "air = SoilMedium(0.01, 0.3, 0.5)\n",
        "\n",
        "sigma_vv = ssrt.compute(air, veg, PolarizationState.VV)\n",
        "10 * np.log10(sigma_vv + 1e-30)"
      ]
    }
  ],
  "metadata": {
    "kernelspec": {
      "display_name": "Python 3",
      "language": "python",
      "name": "python3"
    },
    "language_info": {
      "name": "python",
      "version": "3.11"
    }
  },
  "nbformat": 4,
  "nbformat_minor": 5
}