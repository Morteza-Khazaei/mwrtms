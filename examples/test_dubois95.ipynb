{
 "cells": [
  {
   "cell_type": "markdown",
   "metadata": {},
   "source": [
    "# Placeholder for Dubois using SPM\n"
   ]
  },
  {
   "cell_type": "code",
   "execution_count": null,
   "metadata": {},
   "outputs": [],
   "source": [
    "from mwrtms import mwRTMs, RadarConfigurationFactory, PolarizationState\n",
    "\n",
    "config = RadarConfigurationFactory.create_monostatic(theta_deg=30.0)\n",
    "result = {\n",
    "    pol.value: mwRTMs.compute_soil_backscatter(\n",
    "        model='dubois95',\n",
    "        radar_config=config,\n",
    "        frequency_ghz=5.3,\n",
    "        rms_height_cm=1.2,\n",
    "        correlation_length_cm=6.0,\n",
    "        soil_permittivity=11.0 + 2.2j,\n",
    "        polarization=pol,\n",
    "    )\n",
    "    for pol in (PolarizationState.HH, PolarizationState.VV, PolarizationState.HV)\n",
    "}\n",
    "result\n"
   ]
  }
 ],
 "metadata": {
  "kernelspec": {
   "display_name": "Python 3",
   "language": "python",
   "name": "python3"
  },
  "language_info": {
   "name": "python",
   "version": "3.11"
  }
 },
 "nbformat": 4,
 "nbformat_minor": 5
}