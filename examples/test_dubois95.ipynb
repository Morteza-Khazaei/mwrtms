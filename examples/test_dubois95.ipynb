{
  "cells": [
    {
      "cell_type": "markdown",
      "metadata": {},
      "source": [
        "# Placeholder for Dubois using SPM\n"
      ]
    },
    {
      "cell_type": "code",
      "execution_count": null,
      "metadata": {},
      "outputs": [],
      "source": [
        "from mwrtms import mwRTMs\n",
        "\n",
        "result = mwRTMs.compute_soil_backscatter(\n",
        "    model='aiem',\n",
        "    frequency_ghz=5.4,\n",
        "    incident_angle_deg=30.0,\n",
        "    rms_height_cm=0.8,\n",
        "    correlation_length_cm=4.0,\n",
        "    soil_moisture=0.18\n",
        ")\n",
        "result['vv']"
      ]
    }
  ],
  "metadata": {
    "kernelspec": {
      "display_name": "Python 3",
      "language": "python",
      "name": "python3"
    },
    "language_info": {
      "name": "python",
      "version": "3.11"
    }
  },
  "nbformat": 4,
  "nbformat_minor": 5
}