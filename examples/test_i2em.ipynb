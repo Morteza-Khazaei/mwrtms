{
 "cells": [
  {
   "cell_type": "markdown",
   "metadata": {},
   "source": [
    "# Placeholder I2EM using SPM\n"
   ]
  },
  {
   "cell_type": "code",
   "execution_count": null,
   "metadata": {},
   "outputs": [],
   "source": [
    "from mwrtms import mwRTMs, RadarConfigurationFactory, PolarizationState\n",
    "\n",
    "config = RadarConfigurationFactory.create_monostatic(theta_deg=35.0)\n",
    "result = {\n",
    "    pol.value: mwRTMs.compute_soil_backscatter(\n",
    "        model='i2em',\n",
    "        radar_config=config,\n",
    "        frequency_ghz=5.4,\n",
    "        rms_height_cm=0.8,\n",
    "        correlation_length_cm=4.0,\n",
    "        soil_permittivity=9.0 + 1.5j,\n",
    "        polarization=pol,\n",
    "    )\n",
    "    for pol in (PolarizationState.HH, PolarizationState.VV, PolarizationState.HV)\n",
    "}\n",
    "result\n"
   ]
  }
 ],
 "metadata": {
  "kernelspec": {
   "display_name": "Python 3",
   "language": "python",
   "name": "python3"
  },
  "language_info": {
   "name": "python",
   "version": "3.11"
  }
 },
 "nbformat": 4,
 "nbformat_minor": 5
}