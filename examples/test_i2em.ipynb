{
  "cells": [
    {
      "cell_type": "markdown",
      "metadata": {},
      "source": [
        "# Placeholder I2EM using SPM\n"
      ]
    },
    {
      "cell_type": "code",
      "execution_count": null,
      "metadata": {},
      "outputs": [],
      "source": [
        "from mwrtms import mwRTMs\n",
        "\n",
        "result = mwRTMs.compute_soil_backscatter(\n",
        "    model='spm',\n",
        "    frequency_ghz=10.0,\n",
        "    incident_angle_deg=35.0,\n",
        "    rms_height_cm=0.5,\n",
        "    correlation_length_cm=3.0,\n",
        "    soil_moisture=0.12\n",
        ")\n",
        "result"
      ]
    }
  ],
  "metadata": {
    "kernelspec": {
      "display_name": "Python 3",
      "language": "python",
      "name": "python3"
    },
    "language_info": {
      "name": "python",
      "version": "3.11"
    }
  },
  "nbformat": 4,
  "nbformat_minor": 5
}