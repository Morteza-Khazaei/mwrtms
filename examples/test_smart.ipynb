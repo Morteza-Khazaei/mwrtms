{
  "cells": [
    {
      "cell_type": "markdown",
      "metadata": {},
      "source": [
        "# Placeholder SMART using AIEM\n"
      ]
    },
    {
      "cell_type": "code",
      "execution_count": null,
      "metadata": {},
      "outputs": [],
      "source": [
        "from mwrtms import mwRTMs\n",
        "\n",
        "result = mwRTMs.compute_soil_backscatter(\n",
        "    model='aiem',\n",
        "    frequency_ghz=9.65,\n",
        "    incident_angle_deg=40.0,\n",
        "    rms_height_cm=1.2,\n",
        "    correlation_length_cm=6.0,\n",
        "    soil_moisture=0.28\n",
        ")\n",
        "result"
      ]
    }
  ],
  "metadata": {
    "kernelspec": {
      "display_name": "Python 3",
      "language": "python",
      "name": "python3"
    },
    "language_info": {
      "name": "python",
      "version": "3.11"
    }
  },
  "nbformat": 4,
  "nbformat_minor": 5
}