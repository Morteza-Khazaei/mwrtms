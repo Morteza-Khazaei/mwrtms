{
  "cells": [
    {
      "cell_type": "markdown",
      "metadata": {},
      "source": [
        "# Evaluate Dobson dielectric model\n"
      ]
    },
    {
      "cell_type": "code",
      "execution_count": null,
      "metadata": {},
      "outputs": [],
      "source": [
        "from mwrtms.dielectric import DobsonModel\n",
        "\n",
        "model = DobsonModel()\n",
        "permittivity = model.compute(\n",
        "    frequency_hz=5.0e9,\n",
        "    moisture=0.25,\n",
        "    clay=0.3,\n",
        "    sand=0.5\n",
        ")\n",
        "permittivity"
      ]
    }
  ],
  "metadata": {
    "kernelspec": {
      "display_name": "Python 3",
      "language": "python",
      "name": "python3"
    },
    "language_info": {
      "name": "python",
      "version": "3.11"
    }
  },
  "nbformat": 4,
  "nbformat_minor": 5
}