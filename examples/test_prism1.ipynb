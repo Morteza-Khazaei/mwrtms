{
 "cells": [
  {
   "cell_type": "markdown",
   "metadata": {},
   "source": [
    "# Placeholder PRISM using AIEM\n"
   ]
  },
  {
   "cell_type": "code",
   "execution_count": null,
   "metadata": {},
   "outputs": [],
   "source": [
    "from mwrtms import mwRTMs, RadarConfigurationFactory, PolarizationState\n",
    "\n",
    "config = RadarConfigurationFactory.create_monostatic(theta_deg=25.0)\n",
    "result = {\n",
    "    pol.value: mwRTMs.compute_soil_backscatter(\n",
    "        model='prism1',\n",
    "        radar_config=config,\n",
    "        frequency_ghz=1.5,\n",
    "        rms_height_cm=0.6,\n",
    "        correlation_length_cm=3.0,\n",
    "        soil_permittivity=7.0 + 1.0j,\n",
    "        polarization=pol,\n",
    "    )\n",
    "    for pol in (PolarizationState.HH, PolarizationState.VV, PolarizationState.HV)\n",
    "}\n",
    "result\n"
   ]
  }
 ],
 "metadata": {
  "kernelspec": {
   "display_name": "Python 3",
   "language": "python",
   "name": "python3"
  },
  "language_info": {
   "name": "python",
   "version": "3.11"
  }
 },
 "nbformat": 4,
 "nbformat_minor": 5
}