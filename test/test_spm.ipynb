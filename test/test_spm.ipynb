        "from mwrtms.pyssrt.surface.spm import SPM3D\n",
        "from mwrtms.pyssrt.utils.util import toLambda\n",
