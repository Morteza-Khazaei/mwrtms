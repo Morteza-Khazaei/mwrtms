        "from mwrtms.pyssrt.surface.prism1 import PRISM1\n",
        "from mwrtms.pyssrt.utils.util import toLambda\n",
