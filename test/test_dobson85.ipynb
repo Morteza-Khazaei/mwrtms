{
 "cells": [
  {
   "cell_type": "code",
   "execution_count": 1,
   "id": "f18f4d8f",
   "metadata": {},
   "outputs": [],
   "source": [
    "from mwrtms.pyssrt.utils import Dobson85"
   ]
  },
  {
   "cell_type": "code",
   "execution_count": 8,
   "id": "a1dfd6c3",
   "metadata": {},
   "outputs": [
    {
     "data": {
      "text/plain": [
       "(11.413669782969123+2.034712663174514j)"
      ]
     },
     "execution_count": 8,
     "metadata": {},
     "output_type": "execute_result"
    }
   ],
   "source": [
    "db85 = Dobson85(clay=0.2, sand=0.3, mv=0.2, freq=1.5, temp=23., bulk=1.65, debye=True)\n",
    "db85.eps"
   ]
  }
 ],
 "metadata": {
  "kernelspec": {
   "display_name": ".venv",
   "language": "python",
   "name": "python3"
  },
  "language_info": {
   "codemirror_mode": {
    "name": "ipython",
    "version": 3
   },
   "file_extension": ".py",
   "mimetype": "text/x-python",
   "name": "python",
   "nbconvert_exporter": "python",
   "pygments_lexer": "ipython3",
   "version": "3.11.2"
  }
 },
 "nbformat": 4,
 "nbformat_minor": 5
}
